{
 "cells": [
  {
   "cell_type": "code",
   "execution_count": 2,
   "id": "9764b80b",
   "metadata": {},
   "outputs": [
    {
     "name": "stdout",
     "output_type": "stream",
     "text": [
      "Vaibhav Joshi\n"
     ]
    },
    {
     "data": {
      "text/plain": [
       "'Vaibhav'"
      ]
     },
     "execution_count": 2,
     "metadata": {},
     "output_type": "execute_result"
    }
   ],
   "source": [
    "## Q1\n",
    "a=lambda n: n.split()[0]\n",
    "n=input()\n",
    "a(n)"
   ]
  },
  {
   "cell_type": "code",
   "execution_count": 5,
   "id": "96bba80e",
   "metadata": {},
   "outputs": [
    {
     "name": "stdout",
     "output_type": "stream",
     "text": [
      "I am Vaibhav Joshi\n",
      "I\n"
     ]
    }
   ],
   "source": [
    "## Q2\n",
    "def firstword(n):\n",
    "    return n.split()[0]\n",
    "n=input()\n",
    "print(firstword(n))"
   ]
  },
  {
   "cell_type": "code",
   "execution_count": 7,
   "id": "fd333858",
   "metadata": {},
   "outputs": [
    {
     "data": {
      "text/plain": [
       "['Everything', 'Video', 'I', 'I', 'My', 'Good']"
      ]
     },
     "execution_count": 7,
     "metadata": {},
     "output_type": "execute_result"
    }
   ],
   "source": [
    "## Q3\n",
    "def firstword(n):\n",
    "    return n.split()[0]\n",
    "list1=[\"Everything is cool\", \"Video games are fun\", \"I love ice cream\", \n",
    "       \"I like Kitkat\", \"My favourite place is Uttarakhand\", \"Good vibes\"]\n",
    "a=list(map(firstword,list1))\n",
    "a"
   ]
  },
  {
   "cell_type": "code",
   "execution_count": 9,
   "id": "9314c927",
   "metadata": {},
   "outputs": [
    {
     "name": "stdout",
     "output_type": "stream",
     "text": [
      "8\n",
      "[1, 2]\n"
     ]
    }
   ],
   "source": [
    "## Q4\n",
    "def isprime(n):\n",
    "    for i in range(2,int(n**(0.5))+1):\n",
    "        if n%i==0:\n",
    "            return 0\n",
    "    else:\n",
    "        return 1\n",
    "n=int(input())\n",
    "l=[1]\n",
    "for i in range(2,n+1):\n",
    "    if n%i==0:\n",
    "        if (isprime(i)) ==1:\n",
    "            l.append(i)\n",
    "print(l)"
   ]
  },
  {
   "cell_type": "code",
   "execution_count": 10,
   "id": "4dd6ebad",
   "metadata": {},
   "outputs": [
    {
     "name": "stdout",
     "output_type": "stream",
     "text": [
      "30\n"
     ]
    }
   ],
   "source": [
    "## Q5\n",
    "def array2(l):\n",
    "    first=second=-1234569\n",
    "    for i in range(len(l)):\n",
    "        if l[i]>first:\n",
    "            second=first\n",
    "            first=l[i]\n",
    "        elif l[i]>second and l[i]!=first:\n",
    "            second=l[i]\n",
    "    if first==second:\n",
    "        return \"Second largest does not exist\"\n",
    "    return second\n",
    "print(array2([10,50,30,20]))"
   ]
  }
 ],
 "metadata": {
  "kernelspec": {
   "display_name": "Python 3",
   "language": "python",
   "name": "python3"
  },
  "language_info": {
   "codemirror_mode": {
    "name": "ipython",
    "version": 3
   },
   "file_extension": ".py",
   "mimetype": "text/x-python",
   "name": "python",
   "nbconvert_exporter": "python",
   "pygments_lexer": "ipython3",
   "version": "3.8.8"
  }
 },
 "nbformat": 4,
 "nbformat_minor": 5
}
